{
 "cells": [
  {
   "cell_type": "markdown",
   "metadata": {},
   "source": [
    "# Python para IA: do zero ao primeiro chatbot "
   ]
  },
  {
   "cell_type": "markdown",
   "metadata": {},
   "source": [
    "### Utilizando Langchain para acessar o Modelo de Linguagem Llama 3"
   ]
  },
  {
   "cell_type": "code",
   "execution_count": 1,
   "metadata": {},
   "outputs": [],
   "source": [
    "# pip install langchain\n",
    "# pip install langchain-groq"
   ]
  },
  {
   "cell_type": "markdown",
   "metadata": {},
   "source": [
    "### Craindo uma api key - Groq \n",
    "\n",
    "Primeiro, vamos criar uma conta na Groq e gerar uma chave de acesso a sua conta (também chamada de API KEY). Para isso, siga os seguintes passos:\n",
    "- Crie uma conta na plataforma da [Groq](https://console.groq.com/)\n",
    "- Acesse a página de criação de [api keys](https://console.groq.com/keys)\n",
    "- Clique em \"Create API key\"\n",
    "- Defina um nome e clique em \"Submit\"\n",
    "- Copie o valor da chave"
   ]
  },
  {
   "cell_type": "code",
   "execution_count": 2,
   "metadata": {},
   "outputs": [],
   "source": [
    "API_KEY = \"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\""
   ]
  },
  {
   "cell_type": "markdown",
   "metadata": {},
   "source": [
    "### Conexão"
   ]
  },
  {
   "cell_type": "code",
   "execution_count": 3,
   "metadata": {},
   "outputs": [],
   "source": [
    "import os\n",
    "from langchain_groq import ChatGroq\n",
    "\n",
    "def conection():\n",
    "    API_KEY = \"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\"\n",
    "    os.environ[\"GROQ_API_KEY\"] = API_KEY\n",
    "    chat = ChatGroq(model=\"llama-3.3-70b-versatile\")\n",
    "    return chat"
   ]
  },
  {
   "cell_type": "markdown",
   "metadata": {},
   "source": [
    "### Teste de requisição"
   ]
  },
  {
   "cell_type": "code",
   "execution_count": 4,
   "metadata": {},
   "outputs": [
    {
     "name": "stdout",
     "output_type": "stream",
     "text": [
      "Olá! Estou aqui para ajudar com uma ampla gama de tópicos e necessidades. Aqui estão algumas coisas que posso fazer:\n",
      "\n",
      "1. **Resposta a perguntas**: Posso fornecer informações sobre vários assuntos, desde ciência e história até entretenimento e cultura.\n",
      "\n",
      "2. **Tradução e interpretação de texto**: Posso traduzir textos de um idioma para outro, incluindo português, inglês, espanhol, francês, e muitos outros.\n",
      "\n",
      "3. **Sugestões e recomendações**: Se você estiver procurando por sugestões de livros, filmes, séries, ou qualquer outro tipo de conteúdo, posso ajudar com base em seus interesses.\n",
      "\n",
      "4. **Redação e edição de textos**: Posso ajudar a criar textos, como artigos, histórias, ou até mesmo a editar textos existentes para melhorar a clareza e a gramática.\n",
      "\n",
      "5. **Conversação**: Se você apenas quiser conversar sobre um tópico específico ou sobre o seu dia, estou aqui para ouvir e responder.\n",
      "\n",
      "6. **Resolução de problemas**: Posso oferecer conselhos ou estratégias para lidar com problemas ou desafios que você esteja enfrentando, desde questões pessoais até desafios profissionais.\n",
      "\n",
      "7. **Jogos e diversão**: Se você quiser jogar um jogo de palavras, adivinhar, ou qualquer outra atividade interativa, estou preparado para isso também.\n",
      "\n",
      "8. **Informações atuais**: Posso fornecer notícias e atualizações sobre eventos atuais em várias áreas, como política, esportes, tecnologia, e muito mais.\n",
      "\n",
      "9. **Dicas e tutoriais**: Se você precisa de ajuda com um projeto, como cozinhar uma receita, melhorar suas habilidades de programação, ou dicas de viagem, posso oferecer orientações passo a passo.\n",
      "\n",
      "10. **Aprendizado de idiomas**: Posso ajudar com o aprendizado de idiomas, oferecendo lições básicas, explicando regras gramaticais, e até mesmo praticando conversação com você.\n",
      "\n",
      "Sinta-se à vontade para explorar qualquer uma dessas opções ou sugerir algo que não esteja nesta lista. Estou aqui para ajudar!\n"
     ]
    }
   ],
   "source": [
    "resposta = conection().invoke(\"Teste 0: Olá Modelo! O que pode fazer?\")\n",
    "print(resposta.content)"
   ]
  }
 ],
 "metadata": {
  "kernelspec": {
   "display_name": "Python 3",
   "language": "python",
   "name": "python3"
  },
  "language_info": {
   "codemirror_mode": {
    "name": "ipython",
    "version": 3
   },
   "file_extension": ".py",
   "mimetype": "text/x-python",
   "name": "python",
   "nbconvert_exporter": "python",
   "pygments_lexer": "ipython3",
   "version": "3.12.8"
  }
 },
 "nbformat": 4,
 "nbformat_minor": 2
}
