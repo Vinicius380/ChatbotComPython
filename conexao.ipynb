{
 "cells": [
  {
   "cell_type": "markdown",
   "metadata": {},
   "source": [
    "# Python para IA: do zero ao primeiro chatbot "
   ]
  },
  {
   "cell_type": "markdown",
   "metadata": {},
   "source": [
    "### Utilizando Langchain para acessar o Modelo de Linguagem Llama 3"
   ]
  },
  {
   "cell_type": "code",
   "execution_count": 10,
   "metadata": {},
   "outputs": [],
   "source": [
    "# pip install langchain\n",
    "# pip install langchain-groq"
   ]
  },
  {
   "cell_type": "markdown",
   "metadata": {},
   "source": [
    "### Craindo uma api key - Groq \n",
    "\n",
    "Primeiro, vamos criar uma conta na Groq e gerar uma chave de acesso a sua conta (também chamada de API KEY). Para isso, siga os seguintes passos:\n",
    "- Crie uma conta na plataforma da [Groq](https://console.groq.com/)\n",
    "- Acesse a página de criação de [api keys](https://console.groq.com/keys)\n",
    "- Clique em \"Create API key\"\n",
    "- Defina um nome e clique em \"Submit\"\n",
    "- Copie o valor da chave"
   ]
  },
  {
   "cell_type": "code",
   "execution_count": 11,
   "metadata": {},
   "outputs": [],
   "source": [
    "API_KEY = \"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\""
   ]
  },
  {
   "cell_type": "markdown",
   "metadata": {},
   "source": [
    "### Conexão"
   ]
  },
  {
   "cell_type": "code",
   "execution_count": 14,
   "metadata": {},
   "outputs": [],
   "source": [
    "import os\n",
    "from langchain_groq import ChatGroq\n",
    "\n",
    "def conection():\n",
    "    API_KEY = \"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\"\n",
    "    os.environ[\"GROQ_API_KEY\"] = API_KEY\n",
    "    chat = ChatGroq(model=\"llama-3.3-70b-versatile\")\n",
    "    return chat"
   ]
  },
  {
   "cell_type": "markdown",
   "metadata": {},
   "source": [
    "### Teste de requisição"
   ]
  },
  {
   "cell_type": "code",
   "execution_count": 15,
   "metadata": {},
   "outputs": [
    {
     "name": "stdout",
     "output_type": "stream",
     "text": [
      "Olá! Estou aqui para ajudar com uma ampla gama de tópicos e funções. Aqui estão algumas coisas que posso fazer:\n",
      "\n",
      "1. **Responder perguntas**: Posso fornecer informações sobre vários assuntos, desde ciência e história até entretenimento e cultura.\n",
      "2. **Traduzir textos**: Posso traduzir textos de um idioma para outro, incluindo inglês, espanhol, francês e muitos outros.\n",
      "3. **Gerar textos**: Posso criar textos originais com base em um tema ou assunto específico.\n",
      "4. **Resumo de textos**: Posso resumir textos longos em versões mais curtas e concisas.\n",
      "5. **Conversar**: Posso manter uma conversa com você, respondendo a perguntas e comentários.\n",
      "6. **Jogos e diversão**: Posso jogar jogos de palavras, como \"Adivinhe a palavra\" ou \"Hangman\", ou até mesmo criar histórias interativas.\n",
      "7. **Ajuda com tarefas**: Posso ajudar com tarefas como planejamento de viagens, escolha de presentes ou até mesmo com dicas de culinária.\n",
      "8. **Aprender idiomas**: Posso ajudar a aprender idiomas, fornecendo lições, exercícios e prática de conversação.\n",
      "9. **Criar histórias**: Posso criar histórias curtas ou longas, com base em um tema ou assunto específico.\n",
      "10. **Muito mais**: Estou sempre aprendendo e melhorando, então sinta-se à vontade para perguntar se posso fazer algo específico!\n",
      "\n",
      "O que você gostaria de fazer hoje?\n"
     ]
    }
   ],
   "source": [
    "resposta = conection().invoke(\"Teste 0: Olá Modelo! O que pode fazer?\")\n",
    "print(resposta.content)"
   ]
  }
 ],
 "metadata": {
  "kernelspec": {
   "display_name": "Python 3",
   "language": "python",
   "name": "python3"
  },
  "language_info": {
   "codemirror_mode": {
    "name": "ipython",
    "version": 3
   },
   "file_extension": ".py",
   "mimetype": "text/x-python",
   "name": "python",
   "nbconvert_exporter": "python",
   "pygments_lexer": "ipython3",
   "version": "3.12.8"
  }
 },
 "nbformat": 4,
 "nbformat_minor": 2
}
