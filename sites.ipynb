{
 "cells": [
  {
   "cell_type": "code",
   "execution_count": null,
   "metadata": {},
   "outputs": [],
   "source": [
    "# !pip install langchain==0.3.0\n",
    "# !pip install langchain-groq==0.2.0\n",
    "# !pip install langchain-community==0.3.0\n",
    "# !pip install beautifulsoup4"
   ]
  },
  {
   "cell_type": "markdown",
   "metadata": {},
   "source": [
    "### Acessando sites"
   ]
  },
  {
   "cell_type": "code",
   "execution_count": 6,
   "metadata": {},
   "outputs": [],
   "source": [
    "from langchain_community.document_loaders import WebBaseLoader\n",
    "\n",
    "#Scrapping do site\n",
    "loader = WebBaseLoader(\"https://www.utorrent.com/intl/pt_br/downloads/win/\")\n",
    "lista_documentos = loader.load() \n",
    "#print(lista_documentos[0].page_content)"
   ]
  },
  {
   "cell_type": "code",
   "execution_count": 7,
   "metadata": {},
   "outputs": [],
   "source": [
    "#Inserindo uma lista de conteudos na variavel documento\n",
    "documento = ''\n",
    "for doc in lista_documentos:\n",
    "    documento += doc.page_content"
   ]
  },
  {
   "cell_type": "code",
   "execution_count": null,
   "metadata": {},
   "outputs": [],
   "source": [
    "import os\n",
    "from langchain.prompts import ChatPromptTemplate\n",
    "from langchain_groq import ChatGroq\n",
    "\n",
    "API_KEY = \"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\"\n",
    "os.environ[\"GROQ_API_KEY\"] = API_KEY\n",
    "chat = ChatGroq(model=\"llama-3.3-70b-versatile\")\n",
    "\n",
    "\n",
    "#O conteudo do site é a base de informações do bot\n",
    "template = ChatPromptTemplate.from_messages([\n",
    "    ('system', 'Você é um assistente amigavel e tem acesso as informações para das suas respostas: {documentos_informados}'),\n",
    "    ('user', '{input}')\n",
    "])\n",
    "\n",
    "chain = template | chat\n",
    "resposta = chain.invoke({'documentos_informados': documento, 'input': 'O que tem nesse site:'})\n",
    "print(resposta.content)"
   ]
  },
  {
   "cell_type": "code",
   "execution_count": 23,
   "metadata": {},
   "outputs": [],
   "source": [
    "import os\n",
    "import tkinter as tk\n",
    "from langchain.prompts import ChatPromptTemplate\n",
    "from langchain_groq import ChatGroq\n",
    "import import_ipynb\n",
    "from conexao import conection\n",
    "from langchain_community.document_loaders import WebBaseLoader\n",
    "\n",
    "def Bot_IA():\n",
    "    def resposta_bot(mensagens):\n",
    "       \n",
    "        loader = WebBaseLoader(\"https://www.utorrent.com/intl/pt_br/downloads/win/\")\n",
    "        lista_documentos = loader.load() \n",
    "\n",
    "        documento = ''\n",
    "        for doc in lista_documentos:\n",
    "            documento += doc.page_content\n",
    "\n",
    "        mensagens_modelo = [('system', 'Você é um assistente chamado Bot.IA')]\n",
    "        mensagens_modelo += mensagens\n",
    "        template = ChatPromptTemplate.from_messages([\n",
    "    ('system', f'Você é um assistente amigavel e tem acesso as informações para dar suas respostas: {documento}'),\n",
    "    ('user', '{input}')\n",
    "    ])\n",
    "\n",
    "        Chat = conection()  \n",
    "\n",
    "        chain = template | Chat\n",
    "\n",
    "        pergunta = mensagens[-1][1]\n",
    "        \n",
    "        return chain.invoke({'input': pergunta}).content\n",
    "\n",
    "    def enviar_mensagem():\n",
    "        pergunta = entry_pergunta.get()  # Obtém a pergunta digitada pelo usuário\n",
    "        if pergunta.lower() == 'x':\n",
    "            root.quit()  # Fecha a aplicação se o usuário digitar 'x'\n",
    "            return\n",
    "\n",
    "        mensagens.append(('user', pergunta))  # Adiciona a pergunta à lista de mensagens\n",
    "        resposta = resposta_bot(mensagens)  # Obtém a resposta do bot\n",
    "        mensagens.append(('assistant', resposta))  # Adiciona a resposta do bot à lista de mensagens\n",
    "\n",
    "        # Atualiza o chat na interface gráfica\n",
    "        text_chat.config(state=tk.NORMAL)  # Permite edição do texto\n",
    "        text_chat.insert(tk.END, f\"Usuário: {pergunta}\\n\")  # Exibe a pergunta do usuário\n",
    "        text_chat.insert(tk.END, f\"Bot: {resposta}\\n\\n\")  # Exibe a resposta do bot\n",
    "        text_chat.config(state=tk.DISABLED)  # Desativa a edição do texto\n",
    "\n",
    "        # Limpa a entrada de texto\n",
    "        entry_pergunta.delete(0, tk.END)\n",
    "\n",
    "    # Criando a interface gráfica\n",
    "    root = tk.Tk()\n",
    "    root.title(\"Bot.IA\")\n",
    "    root.geometry(\"500x400\")\n",
    "\n",
    "    # Lista para armazenar o histórico de mensagens\n",
    "    mensagens = []\n",
    "\n",
    "    # Frame para o chat\n",
    "    frame_chat = tk.Frame(root)\n",
    "    frame_chat.pack(pady=10)\n",
    "\n",
    "    # Caixa de texto para exibir o chat\n",
    "    text_chat = tk.Text(frame_chat, width=60, height=15, wrap=tk.WORD, state=tk.DISABLED)\n",
    "    text_chat.pack()\n",
    "\n",
    "    # Caixa de entrada de texto para o usuário digitar perguntas\n",
    "    entry_pergunta = tk.Entry(root, width=50, font=(\"Arial\", 12))\n",
    "    entry_pergunta.pack(pady=10)\n",
    "\n",
    "    # Botão de enviar\n",
    "    botao_enviar = tk.Button(root, text=\"Enviar\", command=enviar_mensagem, font=(\"Arial\", 12))\n",
    "    botao_enviar.pack()\n",
    "\n",
    "    # Inicia o loop da interface gráfica\n",
    "    root.mainloop()"
   ]
  },
  {
   "cell_type": "code",
   "execution_count": 25,
   "metadata": {},
   "outputs": [],
   "source": [
    "Bot_IA()"
   ]
  }
 ],
 "metadata": {
  "kernelspec": {
   "display_name": "Python 3",
   "language": "python",
   "name": "python3"
  },
  "language_info": {
   "codemirror_mode": {
    "name": "ipython",
    "version": 3
   },
   "file_extension": ".py",
   "mimetype": "text/x-python",
   "name": "python",
   "nbconvert_exporter": "python",
   "pygments_lexer": "ipython3",
   "version": "3.12.8"
  }
 },
 "nbformat": 4,
 "nbformat_minor": 2
}
