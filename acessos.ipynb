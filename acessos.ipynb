{
 "cells": [
  {
   "cell_type": "code",
   "execution_count": null,
   "metadata": {},
   "outputs": [],
   "source": [
    "# !pip install langchain\n",
    "# !pip install langchain-groq\n",
    "# !pip install langchain-community\n",
    "# !pip install beautifulsoup4\n",
    "# !pip install youtube_transcript_api\n",
    "# !pip install pypdf"
   ]
  },
  {
   "cell_type": "markdown",
   "metadata": {},
   "source": [
    "### Acessando sites"
   ]
  },
  {
   "cell_type": "code",
   "execution_count": null,
   "metadata": {},
   "outputs": [],
   "source": [
    "import os\n",
    "from langchain.prompts import ChatPromptTemplate\n",
    "from langchain_groq import ChatGroq\n",
    "from langchain_community.document_loaders import WebBaseLoader\n",
    "import import_ipynb\n",
    "from conexao import conection\n",
    "\n",
    "#Scrapping do site\n",
    "loader = WebBaseLoader(\"https://www.utorrent.com/intl/pt_br/downloads/win/\")\n",
    "lista_documentos = loader.load() \n",
    "\n",
    "#print(lista_documentos[0].page_content)\n",
    "\n",
    "#Inserindo uma lista de conteudos na variavel documento\n",
    "documento = ''\n",
    "for doc in lista_documentos:\n",
    "    documento += doc.page_content\n",
    "\n",
    "#conexao com o modelo\n",
    "chat = conection()\n",
    "\n",
    "\n",
    "#O conteudo do site é a base de dados do bot\n",
    "template = ChatPromptTemplate.from_messages([\n",
    "    ('system', 'Você é um assistente amigavel e tem acesso as informações para das suas respostas: {documentos_informados}'),\n",
    "    ('user', '{input}')\n",
    "])\n",
    "\n",
    "chain = template | chat\n",
    "resposta = chain.invoke({'documentos_informados': documento, 'input': 'O que tem nesse site:'})\n",
    "print(resposta.content)"
   ]
  },
  {
   "cell_type": "markdown",
   "metadata": {},
   "source": [
    "### Acessando videos"
   ]
  },
  {
   "cell_type": "code",
   "execution_count": 1,
   "metadata": {},
   "outputs": [
    {
     "name": "stdout",
     "output_type": "stream",
     "text": [
      "Um avião bimotor King Air F90 caiu na zona oeste de São Paulo, matando o piloto e o passageiro, que era o dono do avião, um advogado. Amigos das vítimas disseram que o dono do avião era exigente com a manutenção da aeronave. A causa do acidente ainda é investigada, mas especialistas em aviação suspeitam de uma possível falha nos motores. O avião caiu logo após decolar do aeroporto Campo de Marte e bateu na traseira de um ônibus, ferindo seis pessoas. Os corpos das vítimas serão velados no Rio Grande do Sul. A polícia civil e o centro de investigação em prevenção de acidentes aeronáuticos estão investigando o caso e devem liberar um laudo em 30 dias.\n"
     ]
    }
   ],
   "source": [
    "import os\n",
    "from langchain.prompts import ChatPromptTemplate\n",
    "from langchain_groq import ChatGroq\n",
    "import import_ipynb\n",
    "from conexao import conection\n",
    "from langchain_community.document_loaders import YoutubeLoader\n",
    "\n",
    "#Link do video\n",
    "url = 'https://www.youtube.com/watch?v=kdLYgdkLfDg'\n",
    "\n",
    "#Carregando o conteudo\n",
    "loader = YoutubeLoader.from_youtube_url(\n",
    "    url,\n",
    "    language=['pt']\n",
    ")\n",
    "\n",
    "lista_documentos_youtube = loader.load()\n",
    "\n",
    "documento_youtube = ''\n",
    "for doc in lista_documentos_youtube:\n",
    "    documento_youtube += doc.page_content\n",
    "\n",
    "\n",
    "#conexao com o modelo\n",
    "chat = conection()\n",
    "\n",
    "#Template\n",
    "template_youtube = ChatPromptTemplate.from_messages([\n",
    "    ('system', 'Você é um assistente que possui as seguintes informações para dar as respostas: {informacoes}'),\n",
    "    ('user', '{input}')\n",
    "])\n",
    "\n",
    "chain_youtube = template_youtube | chat\n",
    "resposta_youtube = chain_youtube.invoke({'informacoes': documento_youtube, 'input': 'Resuma o video:'})\n",
    "print(resposta_youtube.content)"
   ]
  },
  {
   "cell_type": "markdown",
   "metadata": {},
   "source": [
    "### Acessando PDFs"
   ]
  },
  {
   "cell_type": "code",
   "execution_count": null,
   "metadata": {},
   "outputs": [],
   "source": [
    "import os\n",
    "from langchain.prompts import ChatPromptTemplate\n",
    "from langchain_groq import ChatGroq\n",
    "import import_ipynb\n",
    "from conexao import conection\n",
    "from langchain_community.document_loaders import PyPDFLoader\n",
    "\n",
    "caminho = 'RoteiroViagemEgito.pdf'\n",
    "\n",
    "loader_pdf = PyPDFLoader(caminho)\n",
    "\n",
    "lista_documentos_pdf = loader_pdf.load()\n",
    "\n",
    "documento_pdf = ''\n",
    "for doc in lista_documentos_pdf:\n",
    "    documento_pdf += doc.page_content\n",
    "\n",
    "#conexao com o modelo\n",
    "chat = conection()\n",
    "\n",
    "#Template\n",
    "template_pdf = ChatPromptTemplate.from_messages([\n",
    "    ('system', 'Você é um assistente que possui o seguinte pdf para dar as respostas: {pdf}'),\n",
    "    ('user', '{input}')\n",
    "])\n",
    "\n",
    "\n",
    "chain_pdf = template_pdf | chat\n",
    "resposta_pdf = chain_pdf.invoke({'pdf': documento_pdf, 'input': 'Resuma o pdf:'})\n",
    "print(resposta_pdf.content)"
   ]
  }
 ],
 "metadata": {
  "kernelspec": {
   "display_name": "Python 3",
   "language": "python",
   "name": "python3"
  },
  "language_info": {
   "codemirror_mode": {
    "name": "ipython",
    "version": 3
   },
   "file_extension": ".py",
   "mimetype": "text/x-python",
   "name": "python",
   "nbconvert_exporter": "python",
   "pygments_lexer": "ipython3",
   "version": "3.12.9"
  }
 },
 "nbformat": 4,
 "nbformat_minor": 2
}
