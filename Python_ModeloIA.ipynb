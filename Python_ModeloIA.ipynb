{
 "cells": [
  {
   "cell_type": "markdown",
   "metadata": {},
   "source": [
    "# Python para IA: do zero ao primeiro chatbot "
   ]
  },
  {
   "cell_type": "markdown",
   "metadata": {},
   "source": [
    "### Utilizando Langchain para acessar o Modelo de Linguagem Llama 3"
   ]
  },
  {
   "cell_type": "code",
   "execution_count": 3,
   "metadata": {},
   "outputs": [],
   "source": [
    "# pip install langchain\n",
    "# pip install langchain-groq"
   ]
  },
  {
   "cell_type": "markdown",
   "metadata": {},
   "source": [
    "### Craindo uma api key - Groq \n",
    "\n",
    "Primeiro, vamos criar uma conta na Groq e gerar uma chave de acesso a sua conta (também chamada de API KEY). Para isso, siga os seguintes passos:\n",
    "- Crie uma conta na plataforma da [Groq](https://console.groq.com/)\n",
    "- Acesse a página de criação de [api keys](https://console.groq.com/keys)\n",
    "- Clique em \"Create API key\"\n",
    "- Defina um nome e clique em \"Submit\"\n",
    "- Copie o valor da chave"
   ]
  },
  {
   "cell_type": "code",
   "execution_count": 1,
   "metadata": {},
   "outputs": [],
   "source": [
    "API_KEY = \"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\""
   ]
  },
  {
   "cell_type": "markdown",
   "metadata": {},
   "source": [
    "### Conexão"
   ]
  },
  {
   "cell_type": "code",
   "execution_count": 5,
   "metadata": {},
   "outputs": [],
   "source": [
    "import os\n",
    "os.environ[\"GROQ_API_KEY\"] = API_KEY\n",
    "\n",
    "from langchain_groq import ChatGroq\n",
    "\n",
    "chat = ChatGroq(model=\"llama-3.3-70b-versatile\")"
   ]
  },
  {
   "cell_type": "markdown",
   "metadata": {},
   "source": [
    "### Teste de requisição"
   ]
  },
  {
   "cell_type": "code",
   "execution_count": 8,
   "metadata": {},
   "outputs": [
    {
     "name": "stdout",
     "output_type": "stream",
     "text": [
      "Olá! Estou aqui para ajudar e entreter. Posso fazer muitas coisas, como:\n",
      "\n",
      "1. **Responder perguntas**: Posso fornecer informações sobre uma ampla gama de tópicos, desde ciência e história até entretenimento e cultura.\n",
      "2. **Traduzir textos**: Posso traduzir textos de um idioma para outro, incluindo português, inglês, espanhol, francês e muitos outros.\n",
      "3. **Gerar textos**: Posso criar textos originais, como histórias, poemas ou artigos, com base em um tema ou assunto que você especifique.\n",
      "4. **Conversar**: Posso ter uma conversa com você, respondendo a suas perguntas e comentários, e até mesmo jogar jogos de conversa, como \"20 Perguntas\" ou \"Adivinha o Número\".\n",
      "5. **Oferecer sugestões**: Posso sugerir filmes, livros, música ou outros tipos de entretenimento com base em seus interesses.\n",
      "6. **Aprender e melhorar**: Posso aprender com as interações que tenho com você e melhorar minhas respostas e habilidades ao longo do tempo.\n",
      "\n",
      "O que você gostaria de fazer hoje? Quer conversar, aprender algo novo ou apenas se divertir? Estou aqui para ajudar!\n"
     ]
    }
   ],
   "source": [
    "resposta = chat.invoke(\"Teste 0: Olá Modelo! O que pode fazer?\")\n",
    "print(resposta.content)"
   ]
  }
 ],
 "metadata": {
  "kernelspec": {
   "display_name": "Python 3",
   "language": "python",
   "name": "python3"
  },
  "language_info": {
   "codemirror_mode": {
    "name": "ipython",
    "version": 3
   },
   "file_extension": ".py",
   "mimetype": "text/x-python",
   "name": "python",
   "nbconvert_exporter": "python",
   "pygments_lexer": "ipython3",
   "version": "3.12.8"
  }
 },
 "nbformat": 4,
 "nbformat_minor": 2
}
