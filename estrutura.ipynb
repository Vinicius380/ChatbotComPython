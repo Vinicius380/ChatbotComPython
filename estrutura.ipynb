{
 "cells": [
  {
   "cell_type": "code",
   "execution_count": null,
   "metadata": {},
   "outputs": [],
   "source": [
    "# !pip install langchain==0.3.0\n",
    "# !pip install langchain-groq==0.2.0"
   ]
  },
  {
   "cell_type": "markdown",
   "metadata": {},
   "source": [
    "### Importando PromptTemplate"
   ]
  },
  {
   "cell_type": "code",
   "execution_count": 1,
   "metadata": {},
   "outputs": [],
   "source": [
    "from langchain.prompts import ChatPromptTemplate\n",
    "\n",
    "template = ChatPromptTemplate.from_messages(\n",
    "    [('system','Você é um assistente que sempre responde com piadas'),\n",
    "('user', 'Traduza {expressao} para a lingua {lingua}')]\n",
    ")\n",
    "\n",
    "#print(template)"
   ]
  },
  {
   "cell_type": "code",
   "execution_count": 2,
   "metadata": {},
   "outputs": [
    {
     "data": {
      "text/plain": [
       "ChatPromptValue(messages=[SystemMessage(content='Você é um assistente que sempre responde com piadas', additional_kwargs={}, response_metadata={}), HumanMessage(content='Traduza Beleza? para a lingua inglesa', additional_kwargs={}, response_metadata={})])"
      ]
     },
     "execution_count": 2,
     "metadata": {},
     "output_type": "execute_result"
    }
   ],
   "source": [
    "template.invoke({'expressao': 'Beleza?', 'lingua':'inglesa'})\n"
   ]
  },
  {
   "cell_type": "markdown",
   "metadata": {},
   "source": [
    "### Criando uma chain"
   ]
  },
  {
   "cell_type": "code",
   "execution_count": 3,
   "metadata": {},
   "outputs": [],
   "source": [
    "import import_ipynb\n",
    "from conexao import conection\n",
    "\n",
    "Chat = conection()\n",
    "\n",
    "chain = template | Chat\n",
    "\n",
    "resposta = chain.invoke({'expressao': 'Beleza?', 'lingua':'inglesa'})\n",
    "#print(resposta.content)"
   ]
  },
  {
   "cell_type": "markdown",
   "metadata": {},
   "source": [
    "### Criação do Bot"
   ]
  },
  {
   "cell_type": "code",
   "execution_count": 4,
   "metadata": {},
   "outputs": [
    {
     "name": "stdout",
     "output_type": "stream",
     "text": [
      "Bem-vindo ao Bot.IA!\n",
      "Muito obrigado por usar o Bot.IA\n",
      "[]\n"
     ]
    }
   ],
   "source": [
    "from langchain.prompts import ChatPromptTemplate\n",
    "from conexao import conection\n",
    "\n",
    "def resposta_bot(mensagens):\n",
    "    mensagens_modelo = [('system','Você é um assistente chamado Bot.IA')]\n",
    "    mensagens_modelo += mensagens\n",
    "    template = ChatPromptTemplate.from_messages(mensagens_modelo)\n",
    "    chain = template | Chat\n",
    "    return chain.invoke({}).content\n",
    "\n",
    "print('Bem-vindo ao Bot.IA!')\n",
    "\n",
    "mensagens = []\n",
    "while True:\n",
    "    pergunta = input('Usuário: ' )\n",
    "    if pergunta.lower() == 'x':\n",
    "        break\n",
    "    mensagens.append(('user', pergunta))\n",
    "    resposta = resposta_bot(mensagens)\n",
    "    mensagens.append(('assistant', resposta))\n",
    "    print(f'Bot: {resposta}')\n",
    "\n",
    "print('Muito obrigado por usar o Bot.IA')\n",
    "print(mensagens)"
   ]
  },
  {
   "cell_type": "markdown",
   "metadata": {},
   "source": [
    "### Interação com interface gráfica"
   ]
  },
  {
   "cell_type": "code",
   "execution_count": 1,
   "metadata": {},
   "outputs": [],
   "source": [
    "import os\n",
    "import tkinter as tk\n",
    "from langchain.prompts import ChatPromptTemplate\n",
    "from langchain_groq import ChatGroq\n",
    "import import_ipynb\n",
    "from conexao import conection\n",
    "\n",
    "def Bot_IA():\n",
    "\n",
    "    def resposta_bot(mensagens):\n",
    "        mensagens_modelo = [('system', 'Você é um assistente chamado Bot.IA')]\n",
    "        mensagens_modelo += mensagens\n",
    "        template = ChatPromptTemplate.from_messages(mensagens_modelo)\n",
    "        \n",
    "        Chat = conection()  \n",
    "\n",
    "        chain = template | Chat\n",
    "        \n",
    "        return chain.invoke({}).content\n",
    "\n",
    "    def enviar_mensagem():\n",
    "        pergunta = entry_pergunta.get()  # Obtém a pergunta digitada pelo usuário\n",
    "        if pergunta.lower() == 'x':\n",
    "            root.quit()  # Fecha a aplicação se o usuário digitar 'x'\n",
    "            return\n",
    "\n",
    "        mensagens.append(('user', pergunta))  # Adiciona a pergunta à lista de mensagens\n",
    "        resposta = resposta_bot(mensagens)  # Obtém a resposta do bot\n",
    "        mensagens.append(('assistant', resposta))  # Adiciona a resposta do bot à lista de mensagens\n",
    "\n",
    "        # Atualiza o chat na interface gráfica\n",
    "        text_chat.config(state=tk.NORMAL)  # Permite edição do texto\n",
    "        text_chat.insert(tk.END, f\"Usuário: {pergunta}\\n\")  # Exibe a pergunta do usuário\n",
    "        text_chat.insert(tk.END, f\"Bot: {resposta}\\n\\n\")  # Exibe a resposta do bot\n",
    "        text_chat.config(state=tk.DISABLED)  # Desativa a edição do texto\n",
    "\n",
    "        # Limpa a entrada de texto\n",
    "        entry_pergunta.delete(0, tk.END)\n",
    "\n",
    "    # Criando a interface gráfica\n",
    "    root = tk.Tk()\n",
    "    root.title(\"Bot.IA\")\n",
    "    root.geometry(\"500x400\")\n",
    "\n",
    "    # Lista para armazenar o histórico de mensagens\n",
    "    mensagens = []\n",
    "\n",
    "    # Frame para o chat\n",
    "    frame_chat = tk.Frame(root)\n",
    "    frame_chat.pack(pady=10)\n",
    "\n",
    "    # Caixa de texto para exibir o chat\n",
    "    text_chat = tk.Text(frame_chat, width=60, height=15, wrap=tk.WORD, state=tk.DISABLED)\n",
    "    text_chat.pack()\n",
    "\n",
    "    # Caixa de entrada de texto para o usuário digitar perguntas\n",
    "    entry_pergunta = tk.Entry(root, width=50, font=(\"Arial\", 12))\n",
    "    entry_pergunta.pack(pady=10)\n",
    "\n",
    "    # Botão de enviar\n",
    "    botao_enviar = tk.Button(root, text=\"Enviar\", command=enviar_mensagem, font=(\"Arial\", 12))\n",
    "    botao_enviar.pack()\n",
    "\n",
    "    # Inicia o loop da interface gráfica\n",
    "    root.mainloop()"
   ]
  }
 ],
 "metadata": {
  "kernelspec": {
   "display_name": "Python 3",
   "language": "python",
   "name": "python3"
  },
  "language_info": {
   "codemirror_mode": {
    "name": "ipython",
    "version": 3
   },
   "file_extension": ".py",
   "mimetype": "text/x-python",
   "name": "python",
   "nbconvert_exporter": "python",
   "pygments_lexer": "ipython3",
   "version": "3.12.9"
  }
 },
 "nbformat": 4,
 "nbformat_minor": 2
}
